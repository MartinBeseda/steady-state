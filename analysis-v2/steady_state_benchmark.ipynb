{
 "cells": [
  {
   "metadata": {
    "ExecuteTime": {
     "end_time": "2024-09-30T07:31:40.554973Z",
     "start_time": "2024-09-30T07:31:39.900469Z"
    }
   },
   "cell_type": "code",
   "source": [
    "import json\n",
    "import os\n",
    "import steady_state_detection as ssd"
   ],
   "id": "2f7b28fe1b24352b",
   "execution_count": 2,
   "outputs": []
  },
  {
   "cell_type": "code",
   "id": "initial_id",
   "metadata": {
    "collapsed": true,
    "ExecuteTime": {
     "end_time": "2024-09-30T07:31:40.565295Z",
     "start_time": "2024-09-30T07:31:40.555973Z"
    }
   },
   "source": [
    "data_dir = '../data'\n",
    "\n",
    "forks = {'raphw__byte-buddy#net.bytebuddy.benchmark.ClassByExtensionBenchmark.benchmarkByteBuddyWithAccessorAndReusedDelegatorWithTypePool#.json': 5,\n",
    "         'eclipse__rdf4j#org.eclipse.rdf4j.benchmark.QueryOrderBenchmark.selectAll#countk=50&limit=10000&syncThreshold=0.json': 9,\n",
    "         'crate__crate#io.crate.analyze.PreExecutionBenchmark.measureParseAndAnalyzeSimpleSelect#.json': 6,\n",
    "         'yellowstonegames__SquidLib#squidpony.performance.DataStructureBenchmark.insertIntegerLinkedHashMap2#NEED_TO_ENLARGE=1&SIZE=65536.json': 4,\n",
    "         'jdbi__jdbi#org.jdbi.v3.benchmark.sqlobject.H2SqlObjectV3Benchmark.attach#.json': 7,\n",
    "         'cantaloupe-project__cantaloupe#edu.illinois.library.cantaloupe.perf.processor.codec.TIFFImageWriterPerformance.testWriteWithPlanarImage#.json': 1,\n",
    "         'jgrapht__jgrapht#org.jgrapht.perf.connectivity.TreeDynamicConnectivityPerformanceTest.testTreeDynamicConnectivity#treeSize=1000.json': 7,\n",
    "         'eclipse__jetty.project#org.eclipse.jetty.util.PoolStrategyBenchmark.testAcquireReleasePoolWithStrategy#CACHE=true&POOL_TYPE=Pool.RoundRobin&SIZE=16.json': 8,\n",
    "         'RoaringBitmap__RoaringBitmap#org.roaringbitmap.iteration.BatchIteratorBenchmark.iterate#bufferSize=512&dirtiness=0.1&keys=2096&runniness=0.1.json': 3,\n",
    "         'zalando__logbook#org.zalando.logbook.HttpLogFormatterBenchmark.fastJsonResponse#.json': 3,\n",
    "         'apache__logging-log4j2#org.apache.logging.log4j.layout.template.json.JsonTemplateLayoutBenchmark.fullCustomJsonLayout#.json': 0,\n",
    "         'apache__tinkerpop#org.apache.tinkerpop.gremlin.driver.GraphSONMapperBenchmark.readBytecode2#.json': 2,\n",
    "         'prestodb__presto#com.facebook.presto.operator.scalar.StringFunctionsBenchmark.benchmarkSubstringStartLengthFromEnd#ascii=false&length=10.json': 2,\n",
    "         'imglib__imglib2#net.imglib2.loops.SyncedPositionablesBenchmark.benchmark2#.json': 9,\n",
    "         'jdbi__jdbi#org.jdbi.v3.benchmark.QualifiersBenchmark.neq4To4#.json': 0,\n",
    "         'h2oai__h2o-3#water.util.IcedHashMapBench.writeMap#arrayType=PrimitiveArray&array_values_length=10000&keyType=String&n_entries=10&valueType=Boolean.json': 5,\n",
    "         'ReactiveX__RxJava#io.reactivex.rxjava3.xmapz.FlowableConcatMapMaybeEmptyPerf.flowableDedicated#count=1000000.json': 3,\n",
    "         'RoaringBitmap__RoaringBitmap#org.roaringbitmap.cardinality64.Cardinality64Benchmark.getCardinalityWithoutCache_Small#.json': 0,\n",
    "         'jgrapht__jgrapht#org.jgrapht.perf.flow.MaximumFlowAlgorithmPerformanceTest.EdmondsKarpMaximumFlowRandomGraphBenchmark.run#.json': 2,\n",
    "         'apache__arrow#org.apache.arrow.vector.Float8Benchmarks.readWriteBenchmark#.json': 4}\n",
    "\n",
    "timeseries_idx = 13\n",
    "timeseries_fname = list(forks.keys())[timeseries_idx]\n",
    "fork_idx = list(forks.values())[timeseries_idx]\n",
    "print(f'Timeseries name: {timeseries_fname}')\n",
    "\n",
    "timeseries = json.load(open(os.path.join(data_dir, 'timeseries/all', timeseries_fname)))[fork_idx]\n",
    "classification = json.load(open(os.path.join(data_dir, 'classification', timeseries_fname)))['steady_state_starts'][fork_idx]"
   ],
   "execution_count": 3,
   "outputs": []
  },
  {
   "metadata": {
    "ExecuteTime": {
     "end_time": "2024-09-30T07:31:40.637008Z",
     "start_time": "2024-09-30T07:31:40.566067Z"
    }
   },
   "cell_type": "code",
   "source": [
    "import scipy.signal as ssi\n",
    "import matplotlib.pyplot as plt\n",
    "plt.figure()\n",
    "plt.plot(timeseries)\n",
    "plt.plot(ssi.medfilt(timeseries,kernel_size=15))\n",
    "plt.show()"
   ],
   "id": "91510ee6ec8e40ab",
   "execution_count": 4,
   "outputs": []
  },
  {
   "metadata": {
    "ExecuteTime": {
     "end_time": "2024-09-30T07:31:40.814762Z",
     "start_time": "2024-09-30T07:31:40.638822Z"
    }
   },
   "cell_type": "code",
   "source": [
    "P, warmup_end = ssd.detect_steady_state(timeseries, prob_win_size=100, t_crit=1.9, step_win_size=50, medfilt_kernel_size=15)\n",
    "print(f'new warmup_end: {warmup_end}')\n",
    "print(f'original classification of warmup: {classification}')\n",
    "# print(timeseries[:20])"
   ],
   "id": "d1dfa44d39dbf33a",
   "execution_count": 5,
   "outputs": []
  },
  {
   "metadata": {},
   "cell_type": "code",
   "source": "ssd.print_fork(timeseries, P, warmup_end, classification, min(timeseries), max(timeseries))",
   "id": "d4e9c5577961cb28",
   "execution_count": null,
   "outputs": []
  },
  {
   "metadata": {},
   "cell_type": "code",
   "source": [
    "window = 100\n",
    "ssd.plot_step(timeseries, warmup_end, window, 'New Method')\n",
    "ssd.plot_step(timeseries, classification, window, 'Old Method')"
   ],
   "id": "2734cb73d620a5b1",
   "execution_count": null,
   "outputs": []
  },
  {
   "metadata": {},
   "cell_type": "code",
   "source": [
    "import numpy as np\n",
    "from matplotlib import pyplot as plt\n",
    "\n",
    "plt.figure(figsize=(12, 6))\n",
    "\n",
    "plt.plot(timeseries)\n",
    "plt.ylim(min(timeseries), 4*np.median(timeseries))\n",
    "plt.vlines(warmup_end, min(timeseries), 4*np.median(timeseries), colors='r')\n",
    "plt.vlines(classification,min(timeseries), 4*np.median(timeseries), colors='g')\n",
    "plt.hlines(np.median(timeseries[:warmup_end]),0, warmup_end, colors='r')\n",
    "plt.hlines(np.median(timeseries[warmup_end:]),warmup_end, len(timeseries),colors='g')\n",
    "print(f'Difference in medians: {np.median(timeseries[:warmup_end])-np.median(timeseries[warmup_end:])}')\n",
    "print(f'Median of all data: {np.median(timeseries)}')\n",
    "\n",
    "plt.show()"
   ],
   "id": "a4e75845dc6948b8",
   "execution_count": null,
   "outputs": []
  },
  {
   "metadata": {},
   "cell_type": "code",
   "source": [
    "# path = f'{data_dir}/timeseries/all'\n",
    "# \n",
    "# import shutil\n",
    "# shutil.rmtree(f'{data_dir}/new_classification')\n",
    "# os.mkdir(f'{data_dir}/new_classification')\n",
    "# \n",
    "# for filename in os.listdir(path):\n",
    "#     f = os.path.join(path, filename)\n",
    "# \n",
    "#     if os.path.isfile(f):\n",
    "#         print(filename)\n",
    "#         # Read all the forks for the configuration\n",
    "#         forks = json.load(open(os.path.join(path, filename)))\n",
    "# \n",
    "#         single_config_res = []\n",
    "# \n",
    "#         # Iterate over forks\n",
    "#         for i, fork in enumerate(forks):\n",
    "#             print(f'Fork ID: {i}')\n",
    "#             # P, warmup_end = ssd.detect_steady_state(fork, prob_win_size=100, t_crit=1.9, step_win_size=50, medfilt_kernel_size=15)\n",
    "#             P, warmup_end = ssd.detect_steady_state(fork, prob_win_size=100, t_crit=1.9, step_win_size=50, medfilt_kernel_size=15)\n",
    "#             single_config_res.append(ssd.get_compact_result(P, warmup_end))\n",
    "# \n",
    "#         json.dump(single_config_res, open(f'{data_dir}/new_classification/{filename}', 'w+'), indent=4)"
   ],
   "id": "d46d9594073cd919",
   "execution_count": null,
   "outputs": []
  }
 ],
 "metadata": {
  "kernelspec": {
   "display_name": "Python 3",
   "language": "python",
   "name": "python3"
  },
  "language_info": {
   "codemirror_mode": {
    "name": "ipython",
    "version": 2
   },
   "file_extension": ".py",
   "mimetype": "text/x-python",
   "name": "python",
   "nbconvert_exporter": "python",
   "pygments_lexer": "ipython2",
   "version": "2.7.6"
  }
 },
 "nbformat": 4,
 "nbformat_minor": 5
}
